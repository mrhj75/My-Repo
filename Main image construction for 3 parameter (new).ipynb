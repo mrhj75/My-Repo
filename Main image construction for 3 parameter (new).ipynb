{
 "cells": [
  {
   "cell_type": "code",
   "execution_count": null,
   "metadata": {},
   "outputs": [],
   "source": [
    "import numpy as np\n",
    "import pandas as pd\n",
    "import matplotlib.pylab as plt\n",
    "import csv\n",
    "from PIL import Image, ImageDraw"
   ]
  },
  {
   "cell_type": "code",
   "execution_count": null,
   "metadata": {},
   "outputs": [],
   "source": [
    "xls = pd.ExcelFile('D:/M_Hajizadeh/to new pc/M Hajizadeh/Main works/to strasbourg pc/new simulation extended drainage time 19 october ( 8 steps )/simulation/Training.xlsx')\n",
    "Inputs = pd.read_excel(xls, 'Inputs', header=None)\n",
    "Outputs = pd.read_excel(xls, 'Outputs', header=None)"
   ]
  },
  {
   "cell_type": "code",
   "execution_count": null,
   "metadata": {},
   "outputs": [],
   "source": [
    "N_Data=50\n",
    "\n",
    "\n",
    "number_of_time_steps=16"
   ]
  },
  {
   "cell_type": "code",
   "execution_count": null,
   "metadata": {},
   "outputs": [],
   "source": [
    "output_teta_images=np.zeros((20,20, number_of_time_steps, N_Data))\n"
   ]
  },
  {
   "cell_type": "code",
   "execution_count": null,
   "metadata": {},
   "outputs": [],
   "source": [
    "for image_number in range(0,N_Data):\n",
    "    j=(image_number*118)+1\n",
    "    for time in range(0,number_of_time_steps):\n",
    "        i=0\n",
    "        for row in range(0,20):\n",
    "            for col in range(0,20):\n",
    "                output_teta_images[row,col,time,image_number]=Outputs.iloc[i,j]\n",
    "            i+=505\n",
    "        j+=7"
   ]
  },
  {
   "cell_type": "code",
   "execution_count": null,
   "metadata": {},
   "outputs": [],
   "source": [
    "full_output_image=np.zeros((N_Data, 80,80, 1))\n",
    "for image_number in range(0,N_Data):\n",
    "    full_output_image[image_number, 0:20, 0:20, 0] = output_teta_images[:,:,0,image_number]/0.47\n",
    "    full_output_image[image_number, 20:40, 0:20, 0] = output_teta_images[:,:,1,image_number]/0.47\n",
    "    full_output_image[image_number, 40:60, 0:20, 0] = output_teta_images[:,:,2,image_number]/0.47\n",
    "    full_output_image[image_number, 60:80, 0:20, 0] = output_teta_images[:,:,3,image_number]/0.47\n",
    "    full_output_image[image_number, 0:20, 20:40, 0] = output_teta_images[:,:,4,image_number]/0.47\n",
    "    full_output_image[image_number, 20:40, 20:40, 0] = output_teta_images[:,:,5,image_number]/0.47\n",
    "    full_output_image[image_number, 40:60, 20:40, 0] = output_teta_images[:,:,6,image_number]/0.47\n",
    "    full_output_image[image_number, 60:80, 20:40, 0] = output_teta_images[:,:,7,image_number]/0.47\n",
    "    full_output_image[image_number, 0:20, 40:60, 0] = output_teta_images[:,:,8,image_number]/0.47\n",
    "    full_output_image[image_number, 20:40,40:60, 0] = output_teta_images[:,:,9,image_number]/0.47\n",
    "    full_output_image[image_number, 40:60,40:60, 0] = output_teta_images[:,:,10,image_number]/0.47\n",
    "    full_output_image[image_number, 60:80, 40:60, 0] = output_teta_images[:,:,11,image_number]/0.47\n",
    "    full_output_image[image_number, 0:20, 60:80, 0] = output_teta_images[:,:,12,image_number]/0.47\n",
    "    full_output_image[image_number, 20:40,60:80, 0] = output_teta_images[:,:,13,image_number]/0.47\n",
    "    full_output_image[image_number, 40:60, 60:80, 0] = output_teta_images[:,:,14,image_number]/0.47\n",
    "    full_output_image[image_number, 60:80, 60:80, 0] = output_teta_images[:,:,15,image_number]/0.47\n",
    "\n",
    "    \n",
    "    \n",
    "    \n",
    "    "
   ]
  },
  {
   "cell_type": "code",
   "execution_count": null,
   "metadata": {},
   "outputs": [],
   "source": [
    "b=full_output_image[0, :, :, 0]*255\n",
    "#plt.axis('off')\n",
    "#plt.savefig('c.png')\n",
    "plt.imshow(b)\n",
    "plt.colorbar()\n",
    "#plt.savefig('v.png')"
   ]
  },
  {
   "cell_type": "code",
   "execution_count": null,
   "metadata": {},
   "outputs": [],
   "source": [
    "b=full_output_image[47, :, :, 0]*255\n",
    "#plt.axis('off')\n",
    "#plt.savefig('c.png')\n",
    "plt.imshow(b)\n",
    "plt.colorbar()\n",
    "#plt.savefig('v.png')"
   ]
  },
  {
   "cell_type": "code",
   "execution_count": null,
   "metadata": {},
   "outputs": [],
   "source": [
    "for h in range (0,N_Data):\n",
    "    param = np.reshape(full_output_image[h, :, :, :], (80,80,1))\n",
    "    plt.imshow(param)\n",
    "    plt.axis('off')\n",
    "    plt.savefig('moisture_map{}.jpg'.format(h+600), bbox_inches='tight',pad_inches = 0)"
   ]
  },
  {
   "cell_type": "code",
   "execution_count": null,
   "metadata": {},
   "outputs": [],
   "source": [
    "Ks_images, THs_images, THr_images, alpha_images, n_images =np.zeros((40,40,N_Data)), np.zeros((40,40,N_Data)), \\\n",
    "                                                           np.zeros((40,40,N_Data)), np.zeros((40,40,N_Data)), np.zeros((40,40,N_Data))"
   ]
  },
  {
   "cell_type": "code",
   "execution_count": null,
   "metadata": {},
   "outputs": [],
   "source": [
    "for image_number in range(0,N_Data):\n",
    "    i=0\n",
    "    for row in range(0,40):\n",
    "        for col in range(0,40):\n",
    "            Ks_images[row,col,image_number], THs_images[row,col,image_number], THr_images[row,col,image_number], \\\n",
    "            alpha_images[row,col,image_number], n_images[row,col,image_number]\\\n",
    "                =Inputs.iloc[i,image_number*5], Inputs.iloc[i,1+image_number*5], Inputs.iloc[i,2+image_number*5], \\\n",
    "                 Inputs.iloc[i,3+image_number*5], Inputs.iloc[i,4+image_number*5]\n",
    "            i+=6"
   ]
  },
  {
   "cell_type": "code",
   "execution_count": null,
   "metadata": {},
   "outputs": [],
   "source": [
    "full_input_image=np.zeros((N_Data, 80,80,1))\n",
    "for image_number in range(0,N_Data):\n",
    "    full_input_image[image_number, 0:40, 0:40, 0] = (Ks_images[:,:,image_number]-0.001)/(0.03-0.001) #0.001, 0.005\n",
    "    #full_input_image[image_number, 40:80, 0:40, 0] = (THs_images[:,:,image_number]-0.2)/(0.5-0.2) #0.2, 0.5\n",
    "    #full_input_image[image_number, 80:120, 0:60, 0] = (THr_images[:,:,image_number])/0.25\n",
    "    full_input_image[image_number, 40:80, 0:40, 0] = (alpha_images[:,:,image_number]-0.001)/(0.2-0.001)#0.001, 0.2\n",
    "    full_input_image[image_number, 0:40, 40:80, 0] = (n_images[:,:,image_number]-2)/(8-2)"
   ]
  },
  {
   "cell_type": "code",
   "execution_count": null,
   "metadata": {},
   "outputs": [],
   "source": [
    "for h in range (0,N_Data):\n",
    "    param = np.reshape(full_input_image[h, :, :, :], (80,80,1))\n",
    "    plt.imshow(param)\n",
    "    plt.axis('off')\n",
    "    plt.savefig('parameter{}.jpg'.format(h+600), bbox_inches='tight',pad_inches = 0)"
   ]
  }
 ],
 "metadata": {
  "kernelspec": {
   "display_name": "Python 3 (ipykernel)",
   "language": "python",
   "name": "python3"
  },
  "language_info": {
   "codemirror_mode": {
    "name": "ipython",
    "version": 3
   },
   "file_extension": ".py",
   "mimetype": "text/x-python",
   "name": "python",
   "nbconvert_exporter": "python",
   "pygments_lexer": "ipython3",
   "version": "3.9.7"
  }
 },
 "nbformat": 4,
 "nbformat_minor": 4
}
